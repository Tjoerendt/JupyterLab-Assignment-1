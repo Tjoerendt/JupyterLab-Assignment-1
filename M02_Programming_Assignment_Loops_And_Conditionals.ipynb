{
 "cells": [
  {
   "cell_type": "code",
   "execution_count": 5,
   "metadata": {},
   "outputs": [
    {
     "name": "stdout",
     "output_type": "stream",
     "text": [
      "Too High\n"
     ]
    }
   ],
   "source": [
    "'''\n",
    "4.1 Choose a number between 1 and 10 and assign it to the variable secret. Then, select another number between 1 and 10 and assign it to the\n",
    "variable guess. Next, write the conditional tests (if, else, and elif) to print the string 'too low' if guess is less than secret, 'too high'\n",
    "if greater than secret, and 'just right' if equal to secret.\n",
    "'''\n",
    "secret = 2\n",
    "guess = 5\n",
    "if guess < secret:\n",
    "    print(\"Too Low\")\n",
    "if guess > secret:\n",
    "    print(\"Too High\")\n",
    "if guess == secret:\n",
    "    print(\"Just Right\")"
   ]
  },
  {
   "cell_type": "code",
   "execution_count": 12,
   "metadata": {},
   "outputs": [
    {
     "name": "stdout",
     "output_type": "stream",
     "text": [
      "It's a Pumpkin\n"
     ]
    }
   ],
   "source": [
    "''' \n",
    "4.2 Assign True or False to the variables small and green. Write some if/else statements to print which of these matches those choices:\n",
    "cherry, pea, watermelon, pumpkin.\n",
    "'''\n",
    "small = False\n",
    "green = False\n",
    "if small:\n",
    "    if green:\n",
    "        print(\"It's a Pea\")\n",
    "    else:\n",
    "        print(\"It's a Cherry\")\n",
    "else:\n",
    "    if green:\n",
    "        print(\"It's a Watermelon\")\n",
    "    else:\n",
    "        print(\"It's a Pumpkin\")\n"
   ]
  },
  {
   "cell_type": "code",
   "execution_count": 9,
   "metadata": {},
   "outputs": [
    {
     "name": "stdout",
     "output_type": "stream",
     "text": [
      "3\n",
      "2\n",
      "1\n",
      "0\n"
     ]
    },
    {
     "data": {
      "text/plain": [
       "[3, 2, 1, 0]"
      ]
     },
     "execution_count": 9,
     "metadata": {},
     "output_type": "execute_result"
    }
   ],
   "source": [
    "''' \n",
    "6.1 Use a for loop to print the values of the list [3, 2, 1, 0].\n",
    "'''\n",
    "for i in range(3,-1,-1):\n",
    "    print(i)\n",
    "list (range(3,-1,-1))"
   ]
  },
  {
   "cell_type": "code",
   "execution_count": 13,
   "metadata": {},
   "outputs": [
    {
     "name": "stdout",
     "output_type": "stream",
     "text": [
      "Too Low\n",
      "Too Low\n",
      "Too Low\n",
      "Too Low\n",
      "Too Low\n",
      "Too Low\n",
      "Found It!\n"
     ]
    }
   ],
   "source": [
    "''' \n",
    "6.2 Assign the value 7 to the variable guess_me, and the value 1 to the variable number. Write a while loop that compares number with guess_me.\n",
    "Print 'too low' if number is less than guess me. If number equals guess_me, print 'found it!' and then exit the loop. If number is greater than\n",
    "guess_me, print 'oops' and then exit the loop. Increment number at the end of the loop.\n",
    "'''\n",
    "guess_me = 7\n",
    "number = 1\n",
    "if number > guess_me:\n",
    "    print(\"oops\")\n",
    "while number < guess_me:\n",
    "    print(\"Too Low\")\n",
    "    number += 1\n",
    "if number == guess_me:\n",
    "    print(\"Found It!\")"
   ]
  },
  {
   "cell_type": "code",
   "execution_count": 16,
   "metadata": {},
   "outputs": [
    {
     "name": "stdout",
     "output_type": "stream",
     "text": [
      "Too Low\n",
      "Too Low\n",
      "Too Low\n",
      "Too Low\n",
      "Too Low\n",
      "Found It!\n"
     ]
    }
   ],
   "source": [
    "''' \n",
    "6.3 Assign the value 5 to the variable guess_me. Use a for loop to iterate a variable called number over range(10). If number is less than\n",
    "guess_me, print 'too low'. If it equals guess_me, print found it! and then break out of the for loop. If number is greater than guess_me, print \n",
    "'oops' and then exit the loop.\n",
    "'''\n",
    "guess_me = 5\n",
    "for number in range(10):\n",
    "    if number < guess_me:\n",
    "        print(\"Too Low\")\n",
    "    if number == guess_me:\n",
    "        print(\"Found It!\")\n",
    "        break\n",
    "    if number > guess_me:\n",
    "        print(\"oops\")\n",
    "        break"
   ]
  }
 ],
 "metadata": {
  "kernelspec": {
   "display_name": "Python 3",
   "language": "python",
   "name": "python3"
  },
  "language_info": {
   "codemirror_mode": {
    "name": "ipython",
    "version": 3
   },
   "file_extension": ".py",
   "mimetype": "text/x-python",
   "name": "python",
   "nbconvert_exporter": "python",
   "pygments_lexer": "ipython3",
   "version": "3.12.4"
  }
 },
 "nbformat": 4,
 "nbformat_minor": 2
}
