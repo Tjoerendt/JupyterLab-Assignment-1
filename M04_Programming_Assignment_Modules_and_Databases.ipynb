{
 "cells": [
  {
   "cell_type": "code",
   "execution_count": 1,
   "metadata": {},
   "outputs": [
    {
     "name": "stdout",
     "output_type": "stream",
     "text": [
      "Open 9-5 daily\n"
     ]
    }
   ],
   "source": [
    "''' \n",
    "Create a file called zoo.py. In it, define a function called hours() that prints the string 'Open 9-5 daily'. Then, use the interactive\n",
    "interpreter to import the zoo module and call its hours() function.\n",
    "'''\n",
    "import zoo\n",
    "\n",
    "zoo.hours()"
   ]
  },
  {
   "cell_type": "code",
   "execution_count": 2,
   "metadata": {},
   "outputs": [
    {
     "name": "stdout",
     "output_type": "stream",
     "text": [
      "Open 9-5 daily\n"
     ]
    }
   ],
   "source": [
    "''' \n",
    "11.2 In the interactive interpreter, import the zoo module as menagerie and call its hours() function.\n",
    "'''\n",
    "import zoo as menagerie\n",
    "\n",
    "menagerie.hours()"
   ]
  },
  {
   "cell_type": "code",
   "execution_count": 4,
   "metadata": {},
   "outputs": [
    {
     "data": {
      "text/plain": [
       "<sqlite3.Cursor at 0x2f68502e840>"
      ]
     },
     "execution_count": 4,
     "metadata": {},
     "output_type": "execute_result"
    }
   ],
   "source": [
    "import sqlite3\n",
    "\n",
    "conn = sqlite3.connect('books.db')\n",
    "\n",
    "c= conn.cursor()\n",
    "\n",
    "c.execute('''CREATE TABLE books\n",
    "          (Title TEXT,\n",
    "          Author TEXT,\n",
    "          Year INT\n",
    "          )''')\n",
    "conn.commit()\n",
    "conn.close()\n",
    "#This creates the database for books"
   ]
  },
  {
   "cell_type": "code",
   "execution_count": 6,
   "metadata": {},
   "outputs": [],
   "source": [
    "import sqlite3\n",
    "def insert_info(title, author, year):\n",
    "    conn = sqlite3.connect('books.db')\n",
    "\n",
    "    c= conn.cursor()\n",
    "\n",
    "    c.execute(\"INSERT INTO books VALUES (?,?,?)\", (title, author, year))\n",
    "\n",
    "    conn.commit()\n",
    "    conn.close()\n",
    "\n",
    "new_title = str(input(\"Title of book: \"))\n",
    "\n",
    "new_author = str(input(\"Author of book: \"))\n",
    "\n",
    "new_year = int(input(\"What year was the book created: \"))\n",
    "\n",
    "insert_info(new_title, new_author, new_year)\n",
    "#This will allow for new books to be entered into the database"
   ]
  },
  {
   "cell_type": "code",
   "execution_count": 7,
   "metadata": {},
   "outputs": [
    {
     "name": "stdout",
     "output_type": "stream",
     "text": [
      "Collecting sqlalchemy\n",
      "  Downloading SQLAlchemy-2.0.31-cp312-cp312-win_amd64.whl.metadata (9.9 kB)\n",
      "Collecting typing-extensions>=4.6.0 (from sqlalchemy)\n",
      "  Downloading typing_extensions-4.12.2-py3-none-any.whl.metadata (3.0 kB)\n",
      "Collecting greenlet!=0.4.17 (from sqlalchemy)\n",
      "  Downloading greenlet-3.0.3-cp312-cp312-win_amd64.whl.metadata (3.9 kB)\n",
      "Downloading SQLAlchemy-2.0.31-cp312-cp312-win_amd64.whl (2.1 MB)\n",
      "   ---------------------------------------- 0.0/2.1 MB ? eta -:--:--\n",
      "   ---------------------------------------- 0.0/2.1 MB ? eta -:--:--\n",
      "    --------------------------------------- 0.0/2.1 MB 325.1 kB/s eta 0:00:07\n",
      "   -- ------------------------------------- 0.1/2.1 MB 819.2 kB/s eta 0:00:03\n",
      "   ----- ---------------------------------- 0.3/2.1 MB 1.7 MB/s eta 0:00:02\n",
      "   ----------- ---------------------------- 0.6/2.1 MB 3.0 MB/s eta 0:00:01\n",
      "   ------------------ --------------------- 1.0/2.1 MB 3.9 MB/s eta 0:00:01\n",
      "   -------------------------- ------------- 1.4/2.1 MB 4.5 MB/s eta 0:00:01\n",
      "   ------------------------------- -------- 1.7/2.1 MB 4.6 MB/s eta 0:00:01\n",
      "   --------------------------------- ------ 1.7/2.1 MB 4.3 MB/s eta 0:00:01\n",
      "   ---------------------------------------  2.1/2.1 MB 4.7 MB/s eta 0:00:01\n",
      "   ---------------------------------------- 2.1/2.1 MB 4.4 MB/s eta 0:00:00\n",
      "Downloading greenlet-3.0.3-cp312-cp312-win_amd64.whl (293 kB)\n",
      "   ---------------------------------------- 0.0/293.6 kB ? eta -:--:--\n",
      "   --------------------------------------- 293.6/293.6 kB 17.7 MB/s eta 0:00:00\n",
      "Downloading typing_extensions-4.12.2-py3-none-any.whl (37 kB)\n",
      "Installing collected packages: typing-extensions, greenlet, sqlalchemy\n",
      "Successfully installed greenlet-3.0.3 sqlalchemy-2.0.31 typing-extensions-4.12.2\n",
      "Note: you may need to restart the kernel to use updated packages.\n"
     ]
    },
    {
     "name": "stderr",
     "output_type": "stream",
     "text": [
      "\n",
      "[notice] A new release of pip is available: 24.0 -> 24.1\n",
      "[notice] To update, run: python.exe -m pip install --upgrade pip\n"
     ]
    }
   ],
   "source": [
    "#pip install sqlalchemy\n",
    "#used this to download\n",
    "\n"
   ]
  },
  {
   "cell_type": "code",
   "execution_count": 14,
   "metadata": {},
   "outputs": [
    {
     "ename": "ArgumentError",
     "evalue": "Invalid SQLite URL: sqlite://book.db\nValid SQLite URL forms are:\n sqlite:///:memory: (or, sqlite://)\n sqlite:///relative/path/to/file.db\n sqlite:////absolute/path/to/file.db",
     "output_type": "error",
     "traceback": [
      "\u001b[1;31m---------------------------------------------------------------------------\u001b[0m",
      "\u001b[1;31mArgumentError\u001b[0m                             Traceback (most recent call last)",
      "Cell \u001b[1;32mIn[14], line 7\u001b[0m\n\u001b[0;32m      1\u001b[0m \u001b[38;5;124;03m''' \u001b[39;00m\n\u001b[0;32m      2\u001b[0m \u001b[38;5;124;03m16.8 Use the sqlalchemy module to connect to the sqlite3 database books.db that you just made in exercise 16.4. As in 16.6, \u001b[39;00m\n\u001b[0;32m      3\u001b[0m \u001b[38;5;124;03mselect and print the title column from the book table in alphabetical order.\u001b[39;00m\n\u001b[0;32m      4\u001b[0m \u001b[38;5;124;03m'''\u001b[39;00m\n\u001b[0;32m      5\u001b[0m \u001b[38;5;28;01mimport\u001b[39;00m \u001b[38;5;21;01msqlalchemy\u001b[39;00m \u001b[38;5;28;01mas\u001b[39;00m \u001b[38;5;21;01msa\u001b[39;00m\n\u001b[1;32m----> 7\u001b[0m conn \u001b[38;5;241m=\u001b[39m \u001b[43msa\u001b[49m\u001b[38;5;241;43m.\u001b[39;49m\u001b[43mcreate_engine\u001b[49m\u001b[43m(\u001b[49m\u001b[38;5;124;43m'\u001b[39;49m\u001b[38;5;124;43msqlite://book.db\u001b[39;49m\u001b[38;5;124;43m'\u001b[39;49m\u001b[43m)\u001b[49m\n\u001b[0;32m      9\u001b[0m result \u001b[38;5;241m=\u001b[39m conn\u001b[38;5;241m.\u001b[39mexecute(\u001b[38;5;124m'\u001b[39m\u001b[38;5;124mSELECT * FROM books\u001b[39m\u001b[38;5;124m'\u001b[39m)\n\u001b[0;32m     11\u001b[0m rows \u001b[38;5;241m=\u001b[39m result\u001b[38;5;241m.\u001b[39mfetchall()\n",
      "File \u001b[1;32m<string>:2\u001b[0m, in \u001b[0;36mcreate_engine\u001b[1;34m(url, **kwargs)\u001b[0m\n",
      "File \u001b[1;32mc:\\Users\\tyler\\AppData\\Local\\Programs\\Python\\Python312\\Lib\\site-packages\\sqlalchemy\\util\\deprecations.py:281\u001b[0m, in \u001b[0;36mdeprecated_params.<locals>.decorate.<locals>.warned\u001b[1;34m(fn, *args, **kwargs)\u001b[0m\n\u001b[0;32m    274\u001b[0m     \u001b[38;5;28;01mif\u001b[39;00m m \u001b[38;5;129;01min\u001b[39;00m kwargs:\n\u001b[0;32m    275\u001b[0m         _warn_with_version(\n\u001b[0;32m    276\u001b[0m             messages[m],\n\u001b[0;32m    277\u001b[0m             versions[m],\n\u001b[0;32m    278\u001b[0m             version_warnings[m],\n\u001b[0;32m    279\u001b[0m             stacklevel\u001b[38;5;241m=\u001b[39m\u001b[38;5;241m3\u001b[39m,\n\u001b[0;32m    280\u001b[0m         )\n\u001b[1;32m--> 281\u001b[0m \u001b[38;5;28;01mreturn\u001b[39;00m \u001b[43mfn\u001b[49m\u001b[43m(\u001b[49m\u001b[38;5;241;43m*\u001b[39;49m\u001b[43margs\u001b[49m\u001b[43m,\u001b[49m\u001b[43m \u001b[49m\u001b[38;5;241;43m*\u001b[39;49m\u001b[38;5;241;43m*\u001b[39;49m\u001b[43mkwargs\u001b[49m\u001b[43m)\u001b[49m\n",
      "File \u001b[1;32mc:\\Users\\tyler\\AppData\\Local\\Programs\\Python\\Python312\\Lib\\site-packages\\sqlalchemy\\engine\\create.py:615\u001b[0m, in \u001b[0;36mcreate_engine\u001b[1;34m(url, **kwargs)\u001b[0m\n\u001b[0;32m    612\u001b[0m dialect \u001b[38;5;241m=\u001b[39m dialect_cls(\u001b[38;5;241m*\u001b[39m\u001b[38;5;241m*\u001b[39mdialect_args)\n\u001b[0;32m    614\u001b[0m \u001b[38;5;66;03m# assemble connection arguments\u001b[39;00m\n\u001b[1;32m--> 615\u001b[0m (cargs_tup, cparams) \u001b[38;5;241m=\u001b[39m \u001b[43mdialect\u001b[49m\u001b[38;5;241;43m.\u001b[39;49m\u001b[43mcreate_connect_args\u001b[49m\u001b[43m(\u001b[49m\u001b[43mu\u001b[49m\u001b[43m)\u001b[49m\n\u001b[0;32m    616\u001b[0m cparams\u001b[38;5;241m.\u001b[39mupdate(pop_kwarg(\u001b[38;5;124m\"\u001b[39m\u001b[38;5;124mconnect_args\u001b[39m\u001b[38;5;124m\"\u001b[39m, {}))\n\u001b[0;32m    618\u001b[0m \u001b[38;5;28;01mif\u001b[39;00m \u001b[38;5;124m\"\u001b[39m\u001b[38;5;124masync_fallback\u001b[39m\u001b[38;5;124m\"\u001b[39m \u001b[38;5;129;01min\u001b[39;00m cparams \u001b[38;5;129;01mand\u001b[39;00m util\u001b[38;5;241m.\u001b[39masbool(cparams[\u001b[38;5;124m\"\u001b[39m\u001b[38;5;124masync_fallback\u001b[39m\u001b[38;5;124m\"\u001b[39m]):\n",
      "File \u001b[1;32mc:\\Users\\tyler\\AppData\\Local\\Programs\\Python\\Python312\\Lib\\site-packages\\sqlalchemy\\dialects\\sqlite\\pysqlite.py:583\u001b[0m, in \u001b[0;36mSQLiteDialect_pysqlite.create_connect_args\u001b[1;34m(self, url)\u001b[0m\n\u001b[0;32m    581\u001b[0m \u001b[38;5;28;01mdef\u001b[39;00m \u001b[38;5;21mcreate_connect_args\u001b[39m(\u001b[38;5;28mself\u001b[39m, url):\n\u001b[0;32m    582\u001b[0m     \u001b[38;5;28;01mif\u001b[39;00m url\u001b[38;5;241m.\u001b[39musername \u001b[38;5;129;01mor\u001b[39;00m url\u001b[38;5;241m.\u001b[39mpassword \u001b[38;5;129;01mor\u001b[39;00m url\u001b[38;5;241m.\u001b[39mhost \u001b[38;5;129;01mor\u001b[39;00m url\u001b[38;5;241m.\u001b[39mport:\n\u001b[1;32m--> 583\u001b[0m         \u001b[38;5;28;01mraise\u001b[39;00m exc\u001b[38;5;241m.\u001b[39mArgumentError(\n\u001b[0;32m    584\u001b[0m             \u001b[38;5;124m\"\u001b[39m\u001b[38;5;124mInvalid SQLite URL: \u001b[39m\u001b[38;5;132;01m%s\u001b[39;00m\u001b[38;5;130;01m\\n\u001b[39;00m\u001b[38;5;124m\"\u001b[39m\n\u001b[0;32m    585\u001b[0m             \u001b[38;5;124m\"\u001b[39m\u001b[38;5;124mValid SQLite URL forms are:\u001b[39m\u001b[38;5;130;01m\\n\u001b[39;00m\u001b[38;5;124m\"\u001b[39m\n\u001b[0;32m    586\u001b[0m             \u001b[38;5;124m\"\u001b[39m\u001b[38;5;124m sqlite:///:memory: (or, sqlite://)\u001b[39m\u001b[38;5;130;01m\\n\u001b[39;00m\u001b[38;5;124m\"\u001b[39m\n\u001b[0;32m    587\u001b[0m             \u001b[38;5;124m\"\u001b[39m\u001b[38;5;124m sqlite:///relative/path/to/file.db\u001b[39m\u001b[38;5;130;01m\\n\u001b[39;00m\u001b[38;5;124m\"\u001b[39m\n\u001b[0;32m    588\u001b[0m             \u001b[38;5;124m\"\u001b[39m\u001b[38;5;124m sqlite:////absolute/path/to/file.db\u001b[39m\u001b[38;5;124m\"\u001b[39m \u001b[38;5;241m%\u001b[39m (url,)\n\u001b[0;32m    589\u001b[0m         )\n\u001b[0;32m    591\u001b[0m     \u001b[38;5;66;03m# theoretically, this list can be augmented, at least as far as\u001b[39;00m\n\u001b[0;32m    592\u001b[0m     \u001b[38;5;66;03m# parameter names accepted by sqlite3/pysqlite, using\u001b[39;00m\n\u001b[0;32m    593\u001b[0m     \u001b[38;5;66;03m# inspect.getfullargspec().  for the moment this seems like overkill\u001b[39;00m\n\u001b[0;32m    594\u001b[0m     \u001b[38;5;66;03m# as these parameters don't change very often, and as always,\u001b[39;00m\n\u001b[0;32m    595\u001b[0m     \u001b[38;5;66;03m# parameters passed to connect_args will always go to the\u001b[39;00m\n\u001b[0;32m    596\u001b[0m     \u001b[38;5;66;03m# sqlite3/pysqlite driver.\u001b[39;00m\n\u001b[0;32m    597\u001b[0m     pysqlite_args \u001b[38;5;241m=\u001b[39m [\n\u001b[0;32m    598\u001b[0m         (\u001b[38;5;124m\"\u001b[39m\u001b[38;5;124muri\u001b[39m\u001b[38;5;124m\"\u001b[39m, \u001b[38;5;28mbool\u001b[39m),\n\u001b[0;32m    599\u001b[0m         (\u001b[38;5;124m\"\u001b[39m\u001b[38;5;124mtimeout\u001b[39m\u001b[38;5;124m\"\u001b[39m, \u001b[38;5;28mfloat\u001b[39m),\n\u001b[1;32m   (...)\u001b[0m\n\u001b[0;32m    603\u001b[0m         (\u001b[38;5;124m\"\u001b[39m\u001b[38;5;124mcached_statements\u001b[39m\u001b[38;5;124m\"\u001b[39m, \u001b[38;5;28mint\u001b[39m),\n\u001b[0;32m    604\u001b[0m     ]\n",
      "\u001b[1;31mArgumentError\u001b[0m: Invalid SQLite URL: sqlite://book.db\nValid SQLite URL forms are:\n sqlite:///:memory: (or, sqlite://)\n sqlite:///relative/path/to/file.db\n sqlite:////absolute/path/to/file.db"
     ]
    }
   ],
   "source": [
    "''' \n",
    "16.8 Use the sqlalchemy module to connect to the sqlite3 database books.db that you just made in exercise 16.4. As in 16.6, \n",
    "select and print the title column from the book table in alphabetical order.\n",
    "'''\n",
    "import sqlalchemy as sa\n",
    "\n",
    "conn = sa.create_engine('sqlite://book.db')\n",
    "\n",
    "meta = sa.MetaData()\n",
    "\n",
    "result = conn.execute('SELECT * FROM books')\n",
    "\n",
    "rows = result.fetchall()\n",
    "\n",
    "print(rows)\n",
    "#I had a hard time figuring this out I know how to get information using SQLite3 however I do not understand sqlalchemy I tried reading out \n",
    "#book multiple times and came up short handed"
   ]
  },
  {
   "cell_type": "code",
   "execution_count": null,
   "metadata": {},
   "outputs": [],
   "source": [
    "\n",
    "\n"
   ]
  }
 ],
 "metadata": {
  "kernelspec": {
   "display_name": "Python 3",
   "language": "python",
   "name": "python3"
  },
  "language_info": {
   "codemirror_mode": {
    "name": "ipython",
    "version": 3
   },
   "file_extension": ".py",
   "mimetype": "text/x-python",
   "name": "python",
   "nbconvert_exporter": "python",
   "pygments_lexer": "ipython3",
   "version": "3.12.4"
  }
 },
 "nbformat": 4,
 "nbformat_minor": 2
}
