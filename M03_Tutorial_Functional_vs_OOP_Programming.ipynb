{
 "cells": [
  {
   "cell_type": "code",
   "execution_count": null,
   "metadata": {},
   "outputs": [],
   "source": [
    "''' \n",
    "I wasn't exactly sure what you wanted me to submit for this assignment so I'm gonna copy and paste the code that the editorial showed me\n",
    "because I was struggling a bit and make some comments on it on top of their comments but I was actually struggling with this one. \n",
    "'''"
   ]
  },
  {
   "cell_type": "code",
   "execution_count": 2,
   "metadata": {},
   "outputs": [],
   "source": [
    "#Back-end complete function Template for Python 3\n",
    "\n",
    "class Solution:\n",
    "    \n",
    "    #Function to sort an array of 0s, 1s, and 2s.\n",
    "    def sort012(self,arr,n):\n",
    "        low=0\n",
    "        high=n-1\n",
    "        mid=0\n",
    "        #This is used to initialize the variables\n",
    "        \n",
    "        #iterating until mid pointer is less than or equal to high.\n",
    "        #exactly what was said above this while loop will continue til mid is either less than or equal to high\n",
    "        while mid<=high:\n",
    "            \n",
    "            #if element at mid is 0, swap with element at low and move both pointers.\n",
    "            if arr[mid]==0:\n",
    "                arr[mid] , arr[low] = arr[low] , arr[mid]\n",
    "                mid+=1\n",
    "                low+=1\n",
    "                \n",
    "            #if element at mid is 1, move mid pointer.\n",
    "            elif arr[mid]==1:\n",
    "                mid+=1\n",
    "                \n",
    "            #if element at mid is 2, swap with element at high and move high pointer.\n",
    "            else:\n",
    "                arr[mid] , arr[high] = arr[high] , arr[mid]\n",
    "                high-=1"
   ]
  },
  {
   "cell_type": "code",
   "execution_count": null,
   "metadata": {},
   "outputs": [],
   "source": [
    "# Python3 Program for recursive binary search.\n",
    "\n",
    "# Returns index of x in arr if present, else -1\n",
    "\n",
    "\n",
    "def binarySearch(arr, l, r, x):\n",
    "\n",
    "    # Check base case\n",
    "    if r >= l:\n",
    "\n",
    "        mid = l + (r - l) // 2\n",
    "\n",
    "        # If element is present at the middle itself\n",
    "        if arr[mid] == x:\n",
    "            return mid\n",
    "\n",
    "        # If element is smaller than mid, then it\n",
    "        # can only be present in left subarray\n",
    "        elif arr[mid] > x:\n",
    "            return binarySearch(arr, l, mid-1, x)\n",
    "\n",
    "        # Else the element can only be present\n",
    "        # in right subarray\n",
    "        else:\n",
    "            return binarySearch(arr, mid + 1, r, x)\n",
    "\n",
    "    else:\n",
    "        # Element is not present in the array\n",
    "        return -1\n",
    "\n",
    "\n",
    "# Driver Code\n",
    "arr = [2, 3, 4, 10, 40]\n",
    "x = 10\n",
    "\n",
    "# Function call\n",
    "result = binarySearch(arr, 0, len(arr)-1, x)\n",
    "\n",
    "if result != -1:\n",
    "    print(\"Element is present at index % d\" % result)\n",
    "else:\n",
    "    print(\"Element is not present in array\")"
   ]
  }
 ],
 "metadata": {
  "kernelspec": {
   "display_name": "Python 3",
   "language": "python",
   "name": "python3"
  },
  "language_info": {
   "codemirror_mode": {
    "name": "ipython",
    "version": 3
   },
   "file_extension": ".py",
   "mimetype": "text/x-python",
   "name": "python",
   "nbconvert_exporter": "python",
   "pygments_lexer": "ipython3",
   "version": "3.12.4"
  }
 },
 "nbformat": 4,
 "nbformat_minor": 2
}
